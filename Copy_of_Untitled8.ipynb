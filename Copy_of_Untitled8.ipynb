{
  "nbformat": 4,
  "nbformat_minor": 0,
  "metadata": {
    "colab": {
      "name": "Copy of Untitled8.ipynb",
      "provenance": [],
      "collapsed_sections": []
    },
    "kernelspec": {
      "name": "python3",
      "display_name": "Python 3"
    },
    "language_info": {
      "name": "python"
    }
  },
  "cells": [
    {
      "cell_type": "code",
      "execution_count": null,
      "metadata": {
        "colab": {
          "base_uri": "https://localhost:8080/"
        },
        "id": "7r5wWvmyHvaI",
        "outputId": "d98a4585-04b2-47b3-93d1-4734d28ebe50"
      },
      "outputs": [
        {
          "output_type": "stream",
          "name": "stdout",
          "text": [
            "Reading package lists... Done\n",
            "Building dependency tree       \n",
            "Reading state information... Done\n",
            "The following package was automatically installed and is no longer required:\n",
            "  libnvidia-common-460\n",
            "Use 'apt autoremove' to remove it.\n",
            "The following additional packages will be installed:\n",
            "  openjdk-8-jre-headless\n",
            "Suggested packages:\n",
            "  openjdk-8-demo openjdk-8-source libnss-mdns fonts-dejavu-extra\n",
            "  fonts-ipafont-gothic fonts-ipafont-mincho fonts-wqy-microhei\n",
            "  fonts-wqy-zenhei fonts-indic\n",
            "The following NEW packages will be installed:\n",
            "  openjdk-8-jdk-headless openjdk-8-jre-headless\n",
            "0 upgraded, 2 newly installed, 0 to remove and 42 not upgraded.\n",
            "Need to get 36.5 MB of archives.\n",
            "After this operation, 143 MB of additional disk space will be used.\n",
            "Get:1 http://archive.ubuntu.com/ubuntu bionic-updates/universe amd64 openjdk-8-jre-headless amd64 8u312-b07-0ubuntu1~18.04 [28.2 MB]\n",
            "Get:2 http://archive.ubuntu.com/ubuntu bionic-updates/universe amd64 openjdk-8-jdk-headless amd64 8u312-b07-0ubuntu1~18.04 [8,298 kB]\n",
            "Fetched 36.5 MB in 1s (48.0 MB/s)\n",
            "Selecting previously unselected package openjdk-8-jre-headless:amd64.\n",
            "(Reading database ... 155629 files and directories currently installed.)\n",
            "Preparing to unpack .../openjdk-8-jre-headless_8u312-b07-0ubuntu1~18.04_amd64.deb ...\n",
            "Unpacking openjdk-8-jre-headless:amd64 (8u312-b07-0ubuntu1~18.04) ...\n",
            "Selecting previously unselected package openjdk-8-jdk-headless:amd64.\n",
            "Preparing to unpack .../openjdk-8-jdk-headless_8u312-b07-0ubuntu1~18.04_amd64.deb ...\n",
            "Unpacking openjdk-8-jdk-headless:amd64 (8u312-b07-0ubuntu1~18.04) ...\n",
            "Setting up openjdk-8-jre-headless:amd64 (8u312-b07-0ubuntu1~18.04) ...\n",
            "update-alternatives: using /usr/lib/jvm/java-8-openjdk-amd64/jre/bin/orbd to provide /usr/bin/orbd (orbd) in auto mode\n",
            "update-alternatives: using /usr/lib/jvm/java-8-openjdk-amd64/jre/bin/servertool to provide /usr/bin/servertool (servertool) in auto mode\n",
            "update-alternatives: using /usr/lib/jvm/java-8-openjdk-amd64/jre/bin/tnameserv to provide /usr/bin/tnameserv (tnameserv) in auto mode\n",
            "Setting up openjdk-8-jdk-headless:amd64 (8u312-b07-0ubuntu1~18.04) ...\n",
            "update-alternatives: using /usr/lib/jvm/java-8-openjdk-amd64/bin/idlj to provide /usr/bin/idlj (idlj) in auto mode\n",
            "update-alternatives: using /usr/lib/jvm/java-8-openjdk-amd64/bin/wsimport to provide /usr/bin/wsimport (wsimport) in auto mode\n",
            "update-alternatives: using /usr/lib/jvm/java-8-openjdk-amd64/bin/jsadebugd to provide /usr/bin/jsadebugd (jsadebugd) in auto mode\n",
            "update-alternatives: using /usr/lib/jvm/java-8-openjdk-amd64/bin/native2ascii to provide /usr/bin/native2ascii (native2ascii) in auto mode\n",
            "update-alternatives: using /usr/lib/jvm/java-8-openjdk-amd64/bin/javah to provide /usr/bin/javah (javah) in auto mode\n",
            "update-alternatives: using /usr/lib/jvm/java-8-openjdk-amd64/bin/hsdb to provide /usr/bin/hsdb (hsdb) in auto mode\n",
            "update-alternatives: using /usr/lib/jvm/java-8-openjdk-amd64/bin/clhsdb to provide /usr/bin/clhsdb (clhsdb) in auto mode\n",
            "update-alternatives: using /usr/lib/jvm/java-8-openjdk-amd64/bin/xjc to provide /usr/bin/xjc (xjc) in auto mode\n",
            "update-alternatives: using /usr/lib/jvm/java-8-openjdk-amd64/bin/schemagen to provide /usr/bin/schemagen (schemagen) in auto mode\n",
            "update-alternatives: using /usr/lib/jvm/java-8-openjdk-amd64/bin/extcheck to provide /usr/bin/extcheck (extcheck) in auto mode\n",
            "update-alternatives: using /usr/lib/jvm/java-8-openjdk-amd64/bin/jhat to provide /usr/bin/jhat (jhat) in auto mode\n",
            "update-alternatives: using /usr/lib/jvm/java-8-openjdk-amd64/bin/wsgen to provide /usr/bin/wsgen (wsgen) in auto mode\n"
          ]
        }
      ],
      "source": [
        "!apt-get install openjdk-8-jdk-headless"
      ]
    },
    {
      "cell_type": "code",
      "source": [
        "!wget https://archive.apache.org/dist/spark/spark-3.2.1/spark-3.2.1-bin-hadoop2.7.tgz\n",
        "!tar xf /content/spark-3.2.1-bin-hadoop2.7.tgz\n",
        "!pip install -q findspark"
      ],
      "metadata": {
        "colab": {
          "base_uri": "https://localhost:8080/"
        },
        "id": "LLvRaUvNH8B5",
        "outputId": "864b70d8-f986-43b9-8f0d-e35ff51d214a"
      },
      "execution_count": null,
      "outputs": [
        {
          "output_type": "stream",
          "name": "stdout",
          "text": [
            "--2022-05-20 00:56:10--  https://archive.apache.org/dist/spark/spark-3.2.1/spark-3.2.1-bin-hadoop2.7.tgz\n",
            "Resolving archive.apache.org (archive.apache.org)... 138.201.131.134, 2a01:4f8:172:2ec5::2\n",
            "Connecting to archive.apache.org (archive.apache.org)|138.201.131.134|:443... connected.\n",
            "HTTP request sent, awaiting response... 200 OK\n",
            "Length: 272637746 (260M) [application/x-gzip]\n",
            "Saving to: ‘spark-3.2.1-bin-hadoop2.7.tgz’\n",
            "\n",
            "spark-3.2.1-bin-had 100%[===================>] 260.01M  30.3MB/s    in 9.2s    \n",
            "\n",
            "2022-05-20 00:56:19 (28.2 MB/s) - ‘spark-3.2.1-bin-hadoop2.7.tgz’ saved [272637746/272637746]\n",
            "\n"
          ]
        }
      ]
    },
    {
      "cell_type": "code",
      "source": [
        "import os\n",
        "os.environ[\"JAVA_HOME\"] = \"/usr/lib/jvm/java-8-openjdk-amd64\"\n",
        "os.environ[\"SPARK_HOME\"] = \"/content/spark-3.2.1-bin-hadoop2.7\""
      ],
      "metadata": {
        "id": "pW850OuLIb2z"
      },
      "execution_count": null,
      "outputs": []
    },
    {
      "cell_type": "code",
      "source": [
        "import findspark\n",
        "findspark.init()\n",
        "findspark.find()"
      ],
      "metadata": {
        "colab": {
          "base_uri": "https://localhost:8080/",
          "height": 35
        },
        "id": "4BQt1ZVTJO4A",
        "outputId": "d3eb905b-b9a1-4342-ceb1-60f2909d0db6"
      },
      "execution_count": null,
      "outputs": [
        {
          "output_type": "execute_result",
          "data": {
            "text/plain": [
              "'/content/spark-3.2.1-bin-hadoop2.7'"
            ],
            "application/vnd.google.colaboratory.intrinsic+json": {
              "type": "string"
            }
          },
          "metadata": {},
          "execution_count": 5
        }
      ]
    },
    {
      "cell_type": "code",
      "source": [
        "import pyspark\n",
        "import numpy as np\n",
        "import pandas as pd"
      ],
      "metadata": {
        "id": "-852EUxQJZxL"
      },
      "execution_count": null,
      "outputs": []
    },
    {
      "cell_type": "code",
      "source": [
        "from pyspark.sql import SparkSession\n",
        "\n",
        "spark = SparkSession.builder.master('local[*]').appName('Buyers').getOrCreate()\n",
        "\n",
        "# Read data from CSV file\n",
        "#you can download it from here: https://raw.githubusercontent.com/besherh/BigDataManagement/main/SparkCSV/flights-larger.csv\n",
        "dframe = spark.read.csv('combined-data.csv', sep=',', header=True, inferSchema=True, nullValue='NULL')\n",
        "#df = pd.read_csv(\"combined-data.csv\")"
      ],
      "metadata": {
        "id": "PoaEn3VqJh-U"
      },
      "execution_count": null,
      "outputs": []
    },
    {
      "cell_type": "code",
      "source": [
        "dframe.printSchema()"
      ],
      "metadata": {
        "colab": {
          "base_uri": "https://localhost:8080/"
        },
        "id": "FxYFUc1eKQ8m",
        "outputId": "3db0a723-426c-4cf1-df1f-b64de30b0264"
      },
      "execution_count": null,
      "outputs": [
        {
          "output_type": "stream",
          "name": "stdout",
          "text": [
            "root\n",
            " |-- userId: integer (nullable = true)\n",
            " |-- userSessionId: integer (nullable = true)\n",
            " |-- teamLevel: integer (nullable = true)\n",
            " |-- platformType: string (nullable = true)\n",
            " |-- count_gameclicks: integer (nullable = true)\n",
            " |-- count_hits: integer (nullable = true)\n",
            " |-- count_buyId: integer (nullable = true)\n",
            " |-- avg_price: double (nullable = true)\n",
            "\n"
          ]
        }
      ]
    },
    {
      "cell_type": "code",
      "source": [
        "# Find Count of Null, None, NaN of All DataFrame Columns\n",
        "from pyspark.sql.functions import col,isnan, when, count"
      ],
      "metadata": {
        "id": "jTrULhXRKg0S"
      },
      "execution_count": null,
      "outputs": []
    },
    {
      "cell_type": "code",
      "source": [
        "#Check for missing values\n",
        "#\n",
        "dframe.na.drop().count()"
      ],
      "metadata": {
        "colab": {
          "base_uri": "https://localhost:8080/"
        },
        "id": "loGNqDRlKvay",
        "outputId": "36596b29-c4d2-4b5e-bb53-cb12584ad050"
      },
      "execution_count": null,
      "outputs": [
        {
          "output_type": "execute_result",
          "data": {
            "text/plain": [
              "1411"
            ]
          },
          "metadata": {},
          "execution_count": 11
        }
      ]
    },
    {
      "cell_type": "code",
      "source": [
        "dframe.na.drop(how=\"any\", thresh=2).show()"
      ],
      "metadata": {
        "colab": {
          "base_uri": "https://localhost:8080/"
        },
        "id": "v4OiR96rK95j",
        "outputId": "252c13c6-21d6-4c28-bf63-d0d2172b63e1"
      },
      "execution_count": null,
      "outputs": [
        {
          "output_type": "stream",
          "name": "stdout",
          "text": [
            "+------+-------------+---------+------------+----------------+----------+-----------+---------+\n",
            "|userId|userSessionId|teamLevel|platformType|count_gameclicks|count_hits|count_buyId|avg_price|\n",
            "+------+-------------+---------+------------+----------------+----------+-----------+---------+\n",
            "|   812|         5648|        1|     android|              69|         8|       null|     null|\n",
            "|  1658|         5649|        1|      iphone|              31|         5|       null|     null|\n",
            "|  1589|         5650|        1|      iphone|              26|         2|       null|     null|\n",
            "|  1863|         5651|        1|     android|              35|         4|       null|     null|\n",
            "|   937|         5652|        1|     android|              39|         0|          1|      1.0|\n",
            "|   342|         5653|        1|     android|              36|         5|       null|     null|\n",
            "|   849|         5654|        1|      iphone|              40|         5|       null|     null|\n",
            "|  1277|         5655|        1|     windows|              46|         8|       null|     null|\n",
            "|  2203|         5656|        1|     android|              68|         6|       null|     null|\n",
            "|   585|         5657|        1|      iphone|              76|         9|       null|     null|\n",
            "|  1370|         5658|        1|      iphone|              69|         6|       null|     null|\n",
            "|  1623|         5659|        1|      iphone|             129|         9|          1|     10.0|\n",
            "|   881|         5660|        1|      iphone|              36|         6|       null|     null|\n",
            "|    83|         5661|        1|     android|             102|        14|          1|      5.0|\n",
            "|   453|         5662|        1|     android|             102|         7|       null|     null|\n",
            "|  1966|         5663|        1|      iphone|              63|         8|       null|     null|\n",
            "|  1073|         5664|        1|     android|             141|        21|       null|     null|\n",
            "|   121|         5665|        1|     android|              39|         4|          1|      3.0|\n",
            "|   462|         5666|        1|     android|              90|        10|          1|      3.0|\n",
            "|   708|         5667|        1|      iphone|              32|         2|       null|     null|\n",
            "+------+-------------+---------+------------+----------------+----------+-----------+---------+\n",
            "only showing top 20 rows\n",
            "\n"
          ]
        }
      ]
    },
    {
      "cell_type": "code",
      "source": [
        "from pyspark.ml.feature import Imputer\n",
        "\n",
        "imputer = Imputer(\n",
        "    inputCols=['count_buyId', 'avg_price'], \n",
        "    outputCols=[\"{}_imputed\".format(c) for c in ['count_buyId', 'avg_price']]\n",
        "    ).setStrategy(\"median\")"
      ],
      "metadata": {
        "id": "eCgJePRHLEUD"
      },
      "execution_count": null,
      "outputs": []
    },
    {
      "cell_type": "code",
      "source": [
        "# Add imputation cols to df\n",
        "dframe2 = imputer.fit(dframe).transform(dframe)\n",
        "dframe2.show()"
      ],
      "metadata": {
        "colab": {
          "base_uri": "https://localhost:8080/"
        },
        "id": "EIRn53FRLiO_",
        "outputId": "c6f4a333-3c2e-4f1d-c5ae-67faa1181f36"
      },
      "execution_count": null,
      "outputs": [
        {
          "output_type": "stream",
          "name": "stdout",
          "text": [
            "+------+-------------+---------+------------+----------------+----------+-----------+---------+-------------------+-----------------+\n",
            "|userId|userSessionId|teamLevel|platformType|count_gameclicks|count_hits|count_buyId|avg_price|count_buyId_imputed|avg_price_imputed|\n",
            "+------+-------------+---------+------------+----------------+----------+-----------+---------+-------------------+-----------------+\n",
            "|   812|         5648|        1|     android|              69|         8|       null|     null|                  1|              3.5|\n",
            "|  1658|         5649|        1|      iphone|              31|         5|       null|     null|                  1|              3.5|\n",
            "|  1589|         5650|        1|      iphone|              26|         2|       null|     null|                  1|              3.5|\n",
            "|  1863|         5651|        1|     android|              35|         4|       null|     null|                  1|              3.5|\n",
            "|   937|         5652|        1|     android|              39|         0|          1|      1.0|                  1|              1.0|\n",
            "|   342|         5653|        1|     android|              36|         5|       null|     null|                  1|              3.5|\n",
            "|   849|         5654|        1|      iphone|              40|         5|       null|     null|                  1|              3.5|\n",
            "|  1277|         5655|        1|     windows|              46|         8|       null|     null|                  1|              3.5|\n",
            "|  2203|         5656|        1|     android|              68|         6|       null|     null|                  1|              3.5|\n",
            "|   585|         5657|        1|      iphone|              76|         9|       null|     null|                  1|              3.5|\n",
            "|  1370|         5658|        1|      iphone|              69|         6|       null|     null|                  1|              3.5|\n",
            "|  1623|         5659|        1|      iphone|             129|         9|          1|     10.0|                  1|             10.0|\n",
            "|   881|         5660|        1|      iphone|              36|         6|       null|     null|                  1|              3.5|\n",
            "|    83|         5661|        1|     android|             102|        14|          1|      5.0|                  1|              5.0|\n",
            "|   453|         5662|        1|     android|             102|         7|       null|     null|                  1|              3.5|\n",
            "|  1966|         5663|        1|      iphone|              63|         8|       null|     null|                  1|              3.5|\n",
            "|  1073|         5664|        1|     android|             141|        21|       null|     null|                  1|              3.5|\n",
            "|   121|         5665|        1|     android|              39|         4|          1|      3.0|                  1|              3.0|\n",
            "|   462|         5666|        1|     android|              90|        10|          1|      3.0|                  1|              3.0|\n",
            "|   708|         5667|        1|      iphone|              32|         2|       null|     null|                  1|              3.5|\n",
            "+------+-------------+---------+------------+----------------+----------+-----------+---------+-------------------+-----------------+\n",
            "only showing top 20 rows\n",
            "\n"
          ]
        }
      ]
    },
    {
      "cell_type": "code",
      "source": [
        "dframe2.printSchema()"
      ],
      "metadata": {
        "colab": {
          "base_uri": "https://localhost:8080/"
        },
        "id": "SpIIaeMGL1ae",
        "outputId": "2137fae5-5fa3-4792-f052-5b6fbcbb21c5"
      },
      "execution_count": null,
      "outputs": [
        {
          "output_type": "stream",
          "name": "stdout",
          "text": [
            "root\n",
            " |-- userId: integer (nullable = true)\n",
            " |-- userSessionId: integer (nullable = true)\n",
            " |-- teamLevel: integer (nullable = true)\n",
            " |-- platformType: string (nullable = true)\n",
            " |-- count_gameclicks: integer (nullable = true)\n",
            " |-- count_hits: integer (nullable = true)\n",
            " |-- count_buyId: integer (nullable = true)\n",
            " |-- avg_price: double (nullable = true)\n",
            " |-- count_buyId_imputed: integer (nullable = true)\n",
            " |-- avg_price_imputed: double (nullable = true)\n",
            "\n"
          ]
        }
      ]
    },
    {
      "cell_type": "code",
      "source": [
        "from pyspark.sql import functions as F\n",
        "categories = dframe2.select(\"platformType\").distinct().rdd.flatMap(lambda x: x).collect()\n",
        "\n",
        "exprs = [F.when(F.col(\"platformType\") == category, 1).otherwise(0).alias(category)\n",
        "         for category in categories]\n",
        "\n",
        "customer_dframe3 = dframe2.select( \"count_hits\" , \"count_gameclicks\" , \"avg_price_imputed\" ,  *exprs)\n",
        "\n",
        "customer_dframe3=dframe2.select(\"count_gameclicks\",\"count_hits\",\"avg_price_imputed\")\n",
        "\n",
        "customer_dframe3.show()"
      ],
      "metadata": {
        "colab": {
          "base_uri": "https://localhost:8080/"
        },
        "id": "vMfHAVdHMK6F",
        "outputId": "3d0ebaba-539c-462e-a93f-d52f72e540a3"
      },
      "execution_count": null,
      "outputs": [
        {
          "output_type": "stream",
          "name": "stdout",
          "text": [
            "+----------------+----------+-----------------+\n",
            "|count_gameclicks|count_hits|avg_price_imputed|\n",
            "+----------------+----------+-----------------+\n",
            "|              69|         8|              3.5|\n",
            "|              31|         5|              3.5|\n",
            "|              26|         2|              3.5|\n",
            "|              35|         4|              3.5|\n",
            "|              39|         0|              1.0|\n",
            "|              36|         5|              3.5|\n",
            "|              40|         5|              3.5|\n",
            "|              46|         8|              3.5|\n",
            "|              68|         6|              3.5|\n",
            "|              76|         9|              3.5|\n",
            "|              69|         6|              3.5|\n",
            "|             129|         9|             10.0|\n",
            "|              36|         6|              3.5|\n",
            "|             102|        14|              5.0|\n",
            "|             102|         7|              3.5|\n",
            "|              63|         8|              3.5|\n",
            "|             141|        21|              3.5|\n",
            "|              39|         4|              3.0|\n",
            "|              90|        10|              3.0|\n",
            "|              32|         2|              3.5|\n",
            "+----------------+----------+-----------------+\n",
            "only showing top 20 rows\n",
            "\n"
          ]
        }
      ]
    },
    {
      "cell_type": "code",
      "source": [
        "from pyspark.ml.feature import VectorAssembler\n",
        "customer_dframe3.columns\n",
        "assemble=VectorAssembler(inputCols=[\n",
        " \"count_gameclicks\",\n",
        " \"count_hits\",\n",
        " \"avg_price_imputed\",\n",
        " ], outputCol='features')\n",
        "assembleddat=assemble.transform(customer_dframe3)\n",
        "assembleddat.show(10)"
      ],
      "metadata": {
        "colab": {
          "base_uri": "https://localhost:8080/"
        },
        "id": "tRK99p4nMg3T",
        "outputId": "115a94e8-290a-473d-d91c-7c8012523ab0"
      },
      "execution_count": null,
      "outputs": [
        {
          "output_type": "stream",
          "name": "stdout",
          "text": [
            "+----------------+----------+-----------------+--------------+\n",
            "|count_gameclicks|count_hits|avg_price_imputed|      features|\n",
            "+----------------+----------+-----------------+--------------+\n",
            "|              69|         8|              3.5|[69.0,8.0,3.5]|\n",
            "|              31|         5|              3.5|[31.0,5.0,3.5]|\n",
            "|              26|         2|              3.5|[26.0,2.0,3.5]|\n",
            "|              35|         4|              3.5|[35.0,4.0,3.5]|\n",
            "|              39|         0|              1.0|[39.0,0.0,1.0]|\n",
            "|              36|         5|              3.5|[36.0,5.0,3.5]|\n",
            "|              40|         5|              3.5|[40.0,5.0,3.5]|\n",
            "|              46|         8|              3.5|[46.0,8.0,3.5]|\n",
            "|              68|         6|              3.5|[68.0,6.0,3.5]|\n",
            "|              76|         9|              3.5|[76.0,9.0,3.5]|\n",
            "+----------------+----------+-----------------+--------------+\n",
            "only showing top 10 rows\n",
            "\n"
          ]
        }
      ]
    },
    {
      "cell_type": "code",
      "source": [
        "from pyspark.ml.feature import StandardScaler\n",
        "scale=StandardScaler(inputCol='features',outputCol='standardized')\n",
        "dat_scal=scale.fit(assembleddat)\n",
        "dat_scal_output=dat_scal.transform(assembleddat)\n",
        "dat_scal_output.show(20)"
      ],
      "metadata": {
        "colab": {
          "base_uri": "https://localhost:8080/"
        },
        "id": "hr7ClJUpNCVY",
        "outputId": "6fbc81fc-3c87-4a09-d3ee-17de0fdb5395"
      },
      "execution_count": null,
      "outputs": [
        {
          "output_type": "stream",
          "name": "stdout",
          "text": [
            "+----------------+----------+-----------------+----------------+--------------------+\n",
            "|count_gameclicks|count_hits|avg_price_imputed|        features|        standardized|\n",
            "+----------------+----------+-----------------+----------------+--------------------+\n",
            "|              69|         8|              3.5|  [69.0,8.0,3.5]|[0.54380637390174...|\n",
            "|              31|         5|              3.5|  [31.0,5.0,3.5]|[0.24431880566599...|\n",
            "|              26|         2|              3.5|  [26.0,2.0,3.5]|[0.20491254668761...|\n",
            "|              35|         4|              3.5|  [35.0,4.0,3.5]|[0.27584381284870...|\n",
            "|              39|         0|              1.0|  [39.0,0.0,1.0]|[0.30736882003141...|\n",
            "|              36|         5|              3.5|  [36.0,5.0,3.5]|[0.28372506464438...|\n",
            "|              40|         5|              3.5|  [40.0,5.0,3.5]|[0.31525007182709...|\n",
            "|              46|         8|              3.5|  [46.0,8.0,3.5]|[0.36253758260116...|\n",
            "|              68|         6|              3.5|  [68.0,6.0,3.5]|[0.53592512210606...|\n",
            "|              76|         9|              3.5|  [76.0,9.0,3.5]|[0.59897513647148...|\n",
            "|              69|         6|              3.5|  [69.0,6.0,3.5]|[0.54380637390174...|\n",
            "|             129|         9|             10.0|[129.0,9.0,10.0]|[1.01668148164238...|\n",
            "|              36|         6|              3.5|  [36.0,6.0,3.5]|[0.28372506464438...|\n",
            "|             102|        14|              5.0|[102.0,14.0,5.0]|[0.80388768315909...|\n",
            "|             102|         7|              3.5| [102.0,7.0,3.5]|[0.80388768315909...|\n",
            "|              63|         8|              3.5|  [63.0,8.0,3.5]|[0.49651886312767...|\n",
            "|             141|        21|              3.5|[141.0,21.0,3.5]|[1.11125650319051...|\n",
            "|              39|         4|              3.0|  [39.0,4.0,3.0]|[0.30736882003141...|\n",
            "|              90|        10|              3.0| [90.0,10.0,3.0]|[0.70931266161096...|\n",
            "|              32|         2|              3.5|  [32.0,2.0,3.5]|[0.25220005746167...|\n",
            "+----------------+----------+-----------------+----------------+--------------------+\n",
            "only showing top 20 rows\n",
            "\n"
          ]
        }
      ]
    },
    {
      "cell_type": "code",
      "source": [
        "from pyspark.ml.clustering import KMeans\n",
        "from pyspark.ml.evaluation import ClusteringEvaluator\n",
        "silhouette_score=[]\n",
        "evaluator = ClusteringEvaluator(predictionCol='prediction', featuresCol='standardized', \\\n",
        "                                metricName='silhouette', distanceMeasure='squaredEuclidean')\n",
        "for i in range(2,10):\n",
        "    KMeans_algo=KMeans(featuresCol='standardized', k=i)\n",
        "    KMeans_fit=KMeans_algo.fit(dat_scal_output)\n",
        "    output=KMeans_fit.transform(dat_scal_output)\n",
        "    score=evaluator.evaluate(output)\n",
        "    silhouette_score.append(score)\n",
        "    print(\"Silhouette Score:\",score)"
      ],
      "metadata": {
        "colab": {
          "base_uri": "https://localhost:8080/"
        },
        "id": "unCTLyAuNVIe",
        "outputId": "cd54b57a-6288-451e-fcf8-16b005719bec"
      },
      "execution_count": null,
      "outputs": [
        {
          "output_type": "stream",
          "name": "stdout",
          "text": [
            "Silhouette Score: 0.7743156016473756\n",
            "Silhouette Score: 0.8051786491019037\n",
            "Silhouette Score: 0.7675354485504016\n",
            "Silhouette Score: 0.599773066709682\n",
            "Silhouette Score: 0.5611551988699287\n",
            "Silhouette Score: 0.5554877378724498\n",
            "Silhouette Score: 0.6018710394641011\n",
            "Silhouette Score: 0.6017317177820694\n"
          ]
        }
      ]
    },
    {
      "cell_type": "code",
      "source": [
        "#Visualizing the silhouette scores in a plot\n",
        "import matplotlib.pyplot as plt\n",
        "fig, km = plt.subplots(1,1, figsize =(8,6))\n",
        "km.plot(range(2,10),silhouette_score)\n",
        "km.set_xlabel('k')\n",
        "km.set_ylabel('cost')"
      ],
      "metadata": {
        "colab": {
          "base_uri": "https://localhost:8080/",
          "height": 405
        },
        "id": "Etbx5eLtN1nf",
        "outputId": "90724ae2-7a84-4ac2-81b2-0830af1d8379"
      },
      "execution_count": null,
      "outputs": [
        {
          "output_type": "execute_result",
          "data": {
            "text/plain": [
              "Text(0, 0.5, 'cost')"
            ]
          },
          "metadata": {},
          "execution_count": 20
        },
        {
          "output_type": "display_data",
          "data": {
            "text/plain": [
              "<Figure size 576x432 with 1 Axes>"
            ],
            "image/png": "[encoded data removed]"
          },
          "metadata": {
            "needs_background": "light"
          }
        }
      ]
    },
    {
      "cell_type": "code",
      "source": [
        "KM_=KMeans(featuresCol='features', k=3) \n",
        "KMeans_Mod=KM_.fit(dat_scal_output)\n",
        "KMeans_Assignments=KMeans_Mod.transform(dat_scal_output)\n",
        "\n",
        "centers = KMeans_Mod.clusterCenters()\n",
        "centers\n",
        "\n",
        "KMeans_Assignments.show(1)"
      ],
      "metadata": {
        "colab": {
          "base_uri": "https://localhost:8080/"
        },
        "id": "OyIVCP_6OYCl",
        "outputId": "efeeac43-d211-4300-b8f5-3f38ec155bd9"
      },
      "execution_count": null,
      "outputs": [
        {
          "output_type": "stream",
          "name": "stdout",
          "text": [
            "+----------------+----------+-----------------+--------------+--------------------+----------+\n",
            "|count_gameclicks|count_hits|avg_price_imputed|      features|        standardized|prediction|\n",
            "+----------------+----------+-----------------+--------------+--------------------+----------+\n",
            "|              69|         8|              3.5|[69.0,8.0,3.5]|[0.54380637390174...|         0|\n",
            "+----------------+----------+-----------------+--------------+--------------------+----------+\n",
            "only showing top 1 row\n",
            "\n"
          ]
        }
      ]
    },
    {
      "cell_type": "code",
      "source": [
        "from pyspark.ml.feature import PCA as PCAml\n",
        "pca = PCAml(k=3, inputCol=\"features\", outputCol=\"prediction\")\n",
        "pca_mod = pca.fit(dat_scal_output)\n",
        "pca_trans = pca_mod.transform(dat_scal_output)"
      ],
      "metadata": {
        "id": "c6Dn7U4MPB-l"
      },
      "execution_count": null,
      "outputs": []
    },
    {
      "cell_type": "code",
      "source": [
        "KMeans_Assignments.show(1)"
      ],
      "metadata": {
        "colab": {
          "base_uri": "https://localhost:8080/"
        },
        "id": "qgF-67nXPnfW",
        "outputId": "21a32b8e-21b9-4c6a-e3e6-fd0b969474c7"
      },
      "execution_count": null,
      "outputs": [
        {
          "output_type": "stream",
          "name": "stdout",
          "text": [
            "+----------------+----------+-----------------+--------------+--------------------+----------+\n",
            "|count_gameclicks|count_hits|avg_price_imputed|      features|        standardized|prediction|\n",
            "+----------------+----------+-----------------+--------------+--------------------+----------+\n",
            "|              69|         8|              3.5|[69.0,8.0,3.5]|[0.54380637390174...|         0|\n",
            "+----------------+----------+-----------------+--------------+--------------------+----------+\n",
            "only showing top 1 row\n",
            "\n"
          ]
        }
      ]
    },
    {
      "cell_type": "code",
      "source": [
        "import numpy as np\n",
        "x_pca = np.array(pca_trans.rdd.map(lambda row: row.prediction).collect())\n",
        "\n",
        "cluster_assignment = np.array(KMeans_Assignments.rdd.map(lambda row: row.prediction).collect()).reshape(-1,1)\n",
        "\n",
        "import seaborn as sns\n",
        "import matplotlib.pyplot as plt\n",
        "\n",
        "pca_dat = np.hstack((x_pca,cluster_assignment))\n",
        "\n",
        "pca_dframe = pd.DataFrame(data=pca_dat, columns=(\"count_gameclicks\", \"count_hits\",\"avg_price_imputed\",\"cluster_assignment\"))\n",
        "sns.FacetGrid(pca_dframe,hue=\"cluster_assignment\", height=6).map(plt.scatter, 'count_gameclicks', 'count_hits','avg_price_imputed' ).add_legend()\n",
        "\n",
        "plt.show()"
      ],
      "metadata": {
        "colab": {
          "base_uri": "https://localhost:8080/",
          "height": 476
        },
        "id": "XKZyX1AGPtNr",
        "outputId": "c80ca5e8-7b43-43b5-964c-9f01501a283a"
      },
      "execution_count": null,
      "outputs": [
        {
          "output_type": "stream",
          "name": "stderr",
          "text": [
            "/usr/local/lib/python3.7/dist-packages/matplotlib/collections.py:885: RuntimeWarning: invalid value encountered in sqrt\n",
            "  scale = np.sqrt(self._sizes) * dpi / 72.0 * self._factor\n"
          ]
        },
        {
          "output_type": "display_data",
          "data": {
            "text/plain": [
              "<Figure size 537.375x432 with 1 Axes>"
            ],
            "image/png": "[encoded data removed]"
          },
          "metadata": {
            "needs_background": "light"
          }
        }
      ]
    }
  ]
}